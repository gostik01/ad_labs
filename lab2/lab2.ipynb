{
 "cells": [
  {
   "cell_type": "code",
   "execution_count": 1,
   "id": "8903d8e0-26d2-4e72-b565-47484ac9ed1f",
   "metadata": {},
   "outputs": [],
   "source": [
    "import subprocess\n",
    "import sys\n",
    "\n",
    "def install_and_import(package):\n",
    "    try:\n",
    "        __import__(package)\n",
    "    except ImportError:\n",
    "        subprocess.check_call([sys.executable, \"-m\", \"pip\", \"install\", package])\n",
    "\n",
    "required_libraries = [\"os\", \"pandas\", \"requests\", \"datetime\"]\n",
    "\n",
    "for lib in required_libraries:\n",
    "    install_and_import(lib)\n",
    "\n",
    "import os\n",
    "import pandas as pd\n",
    "import requests\n",
    "from datetime import datetime"
   ]
  },
  {
   "cell_type": "code",
   "execution_count": 2,
   "id": "59b6e7f4-fcfb-4a2c-bcba-1d12ea93b149",
   "metadata": {},
   "outputs": [],
   "source": [
    "def download_vhi_data(region_id):\n",
    "    url = f\"https://www.star.nesdis.noaa.gov/smcd/emb/vci/VH/get_TS_admin.php?country=UKR&provinceID={region_id}&year1=1981&year2=2024&type=Mean\"\n",
    "    timestamp = datetime.now().strftime(\"%Y%m%d_%H%M%S\")\n",
    "    filename = f\"vhi/vhi_region_{region_id}_{timestamp}.csv\"\n",
    "    \n",
    "    if not os.path.exists(\"vhi\"):\n",
    "        os.makedirs(\"vhi\")\n",
    "\n",
    "    try:\n",
    "        response = requests.get(url)\n",
    "        response.raise_for_status()\n",
    "        with open(filename, \"wb\") as file:\n",
    "            file.write(response.content)\n",
    "        print(f\"Дані для області {region_id} завантажено: {filename}\")\n",
    "        return filename\n",
    "    except requests.RequestException as e:\n",
    "        print(f\"Помилка при завантаженні даних для області {region_id}: {e}\")\n",
    "        return None\n",
    "\n",
    "def download_all_vhi_data():\n",
    "    latest_files = {}\n",
    "    for region_id in range(1, 28):\n",
    "        file = download_vhi_data(region_id)\n",
    "        if file:\n",
    "            latest_files[region_id] = file\n",
    "    return latest_files"
   ]
  },
  {
   "cell_type": "code",
   "execution_count": 3,
   "id": "1fa50a24-b46c-4c6c-9648-498324d34eac",
   "metadata": {},
   "outputs": [],
   "source": [
    "def load_vhi_data(filepath):\n",
    "    if not filepath or not os.path.exists(filepath):\n",
    "        print(\"Файл не знайдено.\")\n",
    "        return None\n",
    "    try:\n",
    "        df = pd.read_csv(filepath, index_col=False, header=1)\n",
    "        df.columns = [\"year\", \"week\", \"SMN\", \"SMT\", \"VCI\", \"TCI\", \"VHI\"]\n",
    "        df.dropna(inplace=True)\n",
    "        df = df[df[\"VHI\"] != -1] \n",
    "        return df\n",
    "    except Exception as e:\n",
    "        print(f\"Помилка при зчитуванні файлу: {e}\")\n",
    "        return None\n"
   ]
  },
  {
   "cell_type": "code",
   "execution_count": 4,
   "id": "51b0fc00-b58c-49cb-a9cc-f9eec7c4bdc6",
   "metadata": {},
   "outputs": [],
   "source": [
    "def rename_regions(df):\n",
    "    region_mapping = {1: 22, 2: 24, 3: 23, 4: 25, 5: 3, 6: 4, 7: 8, 8: 19, 9: 20, 10: 21,\n",
    "                      11: 9, 13: 10, 14: 11, 15: 12, 16: 13, 17: 15, 18: 14, 19: 16,\n",
    "                      21: 17, 22: 18, 23: 6, 24: 1, 25: 2, 26: 7, 27: 5}\n",
    "    df.replace({\"area\": region_mapping}, inplace=True)\n",
    "    return df"
   ]
  },
  {
   "cell_type": "code",
   "execution_count": 5,
   "id": "4dc0d25e-0f5a-4f77-a541-d3bd8f114fb5",
   "metadata": {},
   "outputs": [],
   "source": [
    "def analyze_vhi_data(df, region_id, year):\n",
    "    df_filtered = df[(df[\"year\"] == year)]\n",
    "    if df_filtered.empty:\n",
    "        print(f\"Немає даних для {year} року.\")\n",
    "        return\n",
    "    print(f\"Аналіз VHI за {year} рік:\")\n",
    "    for region in df_filtered[\"area\"].unique():\n",
    "        region_data = df_filtered[df_filtered[\"area\"] == region]\n",
    "        print(f\"Область {region}: Мін: {region_data['VHI'].min()}, Макс: {region_data['VHI'].max()}, \\\n",
    "              Середнє: {region_data['VHI'].mean():.2f}, Медіана: {region_data['VHI'].median():.2f}\")\n"
   ]
  },
  {
   "cell_type": "code",
   "execution_count": 6,
   "id": "e7e0747c-5310-4bb7-a44a-ff6bec6f4017",
   "metadata": {},
   "outputs": [],
   "source": [
    "def detect_drought_years(df):\n",
    "    drought_years = []\n",
    "    for year in df[\"year\"].unique():\n",
    "        drought_regions = df[(df[\"year\"] == year) & (df[\"VHI\"] < 15)]\n",
    "        if len(drought_regions) > 5: \n",
    "            drought_years.append(year)\n",
    "    print(\"Роки екстремальних посух:\", drought_years)\n"
   ]
  },
  {
   "cell_type": "code",
   "execution_count": 30,
   "id": "f93ce810-e292-410f-ab8e-752e8d88d85f",
   "metadata": {},
   "outputs": [],
   "source": [
    "def get_vhi_series(df, year):\n",
    "    data = df[df[\"year\"] == year]\n",
    "    print(f\"VHI-ряд для {year} по всіх регіонах:\")\n",
    "    print(data[[\"week\", \"area\", \"VHI\"]])"
   ]
  },
  {
   "cell_type": "code",
   "execution_count": 19,
   "id": "6dfe34fd-4d3d-49a6-ae3b-5eef14ab8897",
   "metadata": {},
   "outputs": [
    {
     "name": "stdout",
     "output_type": "stream",
     "text": [
      "Дані для області 1 завантажено: vhi/vhi_region_1_20250313_080720.csv\n",
      "Дані для області 2 завантажено: vhi/vhi_region_2_20250313_080721.csv\n",
      "Дані для області 3 завантажено: vhi/vhi_region_3_20250313_080723.csv\n",
      "Дані для області 4 завантажено: vhi/vhi_region_4_20250313_080724.csv\n",
      "Дані для області 5 завантажено: vhi/vhi_region_5_20250313_080726.csv\n",
      "Дані для області 6 завантажено: vhi/vhi_region_6_20250313_080727.csv\n",
      "Дані для області 7 завантажено: vhi/vhi_region_7_20250313_080728.csv\n",
      "Дані для області 8 завантажено: vhi/vhi_region_8_20250313_080730.csv\n",
      "Дані для області 9 завантажено: vhi/vhi_region_9_20250313_080731.csv\n",
      "Дані для області 10 завантажено: vhi/vhi_region_10_20250313_080732.csv\n",
      "Дані для області 11 завантажено: vhi/vhi_region_11_20250313_080734.csv\n",
      "Дані для області 12 завантажено: vhi/vhi_region_12_20250313_080735.csv\n",
      "Дані для області 13 завантажено: vhi/vhi_region_13_20250313_080737.csv\n",
      "Дані для області 14 завантажено: vhi/vhi_region_14_20250313_080738.csv\n",
      "Дані для області 15 завантажено: vhi/vhi_region_15_20250313_080740.csv\n",
      "Дані для області 16 завантажено: vhi/vhi_region_16_20250313_080741.csv\n",
      "Дані для області 17 завантажено: vhi/vhi_region_17_20250313_080743.csv\n",
      "Дані для області 18 завантажено: vhi/vhi_region_18_20250313_080744.csv\n",
      "Дані для області 19 завантажено: vhi/vhi_region_19_20250313_080746.csv\n",
      "Дані для області 20 завантажено: vhi/vhi_region_20_20250313_080747.csv\n",
      "Дані для області 21 завантажено: vhi/vhi_region_21_20250313_080749.csv\n",
      "Дані для області 22 завантажено: vhi/vhi_region_22_20250313_080750.csv\n",
      "Дані для області 23 завантажено: vhi/vhi_region_23_20250313_080752.csv\n",
      "Дані для області 24 завантажено: vhi/vhi_region_24_20250313_080753.csv\n",
      "Дані для області 25 завантажено: vhi/vhi_region_25_20250313_080755.csv\n",
      "Дані для області 26 завантажено: vhi/vhi_region_26_20250313_080757.csv\n",
      "Дані для області 27 завантажено: vhi/vhi_region_27_20250313_080758.csv\n"
     ]
    }
   ],
   "source": [
    "latest_files = download_all_vhi_data()\n",
    "all_data = []\n",
    "for region_id, filepath in latest_files.items():\n",
    "    df = load_vhi_data(filepath)\n",
    "    if df is not None:\n",
    "        df[\"area\"] = region_id\n",
    "        all_data.append(df)"
   ]
  },
  {
   "cell_type": "code",
   "execution_count": 31,
   "id": "b583402e-0984-4662-8a6e-8a4b7c149ff9",
   "metadata": {},
   "outputs": [
    {
     "name": "stdout",
     "output_type": "stream",
     "text": [
      "Аналіз VHI за 1991 рік:\n",
      "Область 1: Мін: 27.18, Макс: 64.56,               Середнє: 46.54, Медіана: 45.03\n",
      "Область 2: Мін: 31.92, Макс: 57.49,               Середнє: 44.08, Медіана: 42.69\n",
      "Область 3: Мін: 28.76, Макс: 65.39,               Середнє: 46.96, Медіана: 47.45\n",
      "Область 4: Мін: 32.67, Макс: 63.98,               Середнє: 45.73, Медіана: 40.55\n",
      "Область 5: Мін: 36.04, Макс: 66.29,               Середнє: 47.21, Медіана: 46.18\n",
      "Область 6: Мін: 33.48, Макс: 65.8,               Середнє: 45.94, Медіана: 41.35\n",
      "Область 7: Мін: 31.77, Макс: 58.3,               Середнє: 45.13, Медіана: 44.53\n",
      "Область 8: Мін: 40.28, Макс: 66.1,               Середнє: 50.79, Медіана: 46.88\n",
      "Область 9: Мін: 30.12, Макс: 63.15,               Середнє: 42.14, Медіана: 40.68\n",
      "Область 10: Мін: 27.59, Макс: 60.56,               Середнє: 45.46, Медіана: 46.19\n",
      "Область 11: Мін: 26.31, Макс: 61.55,               Середнє: 45.69, Медіана: 46.05\n",
      "Область 12: Мін: 33.14, Макс: 58.16,               Середнє: 43.66, Медіана: 43.14\n",
      "Область 13: Мін: 29.03, Макс: 69.31,               Середнє: 47.41, Медіана: 44.47\n",
      "Область 14: Мін: 26.24, Макс: 68.78,               Середнє: 44.66, Медіана: 42.69\n",
      "Область 15: Мін: 29.94, Макс: 54.96,               Середнє: 43.59, Медіана: 44.47\n",
      "Область 16: Мін: 24.4, Макс: 69.35,               Середнє: 43.02, Медіана: 39.29\n",
      "Область 17: Мін: 27.22, Макс: 73.08,               Середнє: 48.75, Медіана: 39.48\n",
      "Область 18: Мін: 34.28, Макс: 65.67,               Середнє: 46.39, Медіана: 44.45\n",
      "Область 19: Мін: 26.65, Макс: 57.53,               Середнє: 43.95, Медіана: 44.34\n",
      "Область 20: Мін: 26.29, Макс: 45.06,               Середнє: 35.68, Медіана: 35.80\n",
      "Область 21: Мін: 35.81, Макс: 63.91,               Середнє: 47.72, Медіана: 45.66\n",
      "Область 22: Мін: 29.66, Макс: 62.65,               Середнє: 47.90, Медіана: 51.28\n",
      "Область 23: Мін: 28.48, Макс: 54.36,               Середнє: 41.62, Медіана: 39.00\n",
      "Область 24: Мін: 29.06, Макс: 73.29,               Середнє: 49.07, Медіана: 47.94\n",
      "Область 25: Мін: 27.02, Макс: 57.75,               Середнє: 41.83, Медіана: 42.28\n",
      "Область 26: Мін: 34.27, Макс: 68.05,               Середнє: 45.08, Медіана: 43.27\n",
      "Область 27: Мін: 30.93, Макс: 59.74,               Середнє: 44.70, Медіана: 44.55\n",
      "Роки екстремальних посух: ['1993', '2000', '2007']\n",
      "VHI-ряд для 1992 по всіх регіонах:\n",
      "       week  area    VHI\n",
      "509     1.0     1  35.64\n",
      "510     2.0     1  35.43\n",
      "511     3.0     1  36.84\n",
      "512     4.0     1  38.06\n",
      "513     5.0     1  38.66\n",
      "...     ...   ...    ...\n",
      "57392  48.0    27  37.34\n",
      "57393  49.0    27  35.83\n",
      "57394  50.0    27  33.50\n",
      "57395  51.0    27  32.44\n",
      "57396  52.0    27  32.62\n",
      "\n",
      "[1404 rows x 3 columns]\n"
     ]
    }
   ],
   "source": [
    "    analyze_vhi_data(full_df, None, \"1991\")\n",
    "    detect_drought_years(full_df)\n",
    "    get_vhi_series(full_df, \"1992\")"
   ]
  },
  {
   "cell_type": "code",
   "execution_count": null,
   "id": "bb63254b-59bd-42f5-8b32-5d572da6e80b",
   "metadata": {},
   "outputs": [],
   "source": []
  }
 ],
 "metadata": {
  "kernelspec": {
   "display_name": "Python 3 (ipykernel)",
   "language": "python",
   "name": "python3"
  },
  "language_info": {
   "codemirror_mode": {
    "name": "ipython",
    "version": 3
   },
   "file_extension": ".py",
   "mimetype": "text/x-python",
   "name": "python",
   "nbconvert_exporter": "python",
   "pygments_lexer": "ipython3",
   "version": "3.11.11"
  }
 },
 "nbformat": 4,
 "nbformat_minor": 5
}
