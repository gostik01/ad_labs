{
 "cells": [
  {
   "cell_type": "code",
   "execution_count": 1,
   "id": "619c0a53",
   "metadata": {},
   "outputs": [],
   "source": [
    "import numpy as np\n",
    "import pandas as pd\n",
    "import timeit\n",
    "from datetime import datetime\n",
    "import matplotlib.pyplot as plt\n",
    "import seaborn as sns\n",
    "\n",
    "def avg_time(stmt, num_iterations=10):\n",
    "    t = timeit.timeit(stmt=stmt, globals=globals(), number=num_iterations)\n",
    "    return t / num_iterations"
   ]
  },
  {
   "cell_type": "code",
   "execution_count": 2,
   "id": "a2d9bfa7",
   "metadata": {},
   "outputs": [
    {
     "name": "stdout",
     "output_type": "stream",
     "text": [
      "Заголовки: ['Date', 'Time', 'Global_active_power', 'Global_reactive_power', 'Voltage', 'Global_intensity', 'Sub_metering_1', 'Sub_metering_2', 'Sub_metering_3']\n"
     ]
    }
   ],
   "source": [
    "file_name = r'/home/kali/Desktop/lab/household_power_consumption.txt'\n",
    "with open(file_name, 'r', encoding='utf-8') as file:\n",
    "    first_line = file.readline()\n",
    "headers = first_line.rstrip('\\n').split(\";\")\n",
    "print(\"Заголовки:\", headers)"
   ]
  },
  {
   "cell_type": "code",
   "execution_count": 3,
   "id": "9d83ab16",
   "metadata": {},
   "outputs": [
    {
     "name": "stdout",
     "output_type": "stream",
     "text": [
      "Час зчитування з використанням pandas: 1.339839 секунд\n"
     ]
    }
   ],
   "source": [
    "def readfile(file, header):\n",
    "    df_fun = pd.read_csv(file, sep=\";\", header=0, names=header, na_values=['?'])\n",
    "    return df_fun.dropna()\n",
    "\n",
    "list_time_pd = []\n",
    "time_pd = avg_time('readfile(file_name, headers)')\n",
    "list_time_pd.append(time_pd)\n",
    "print(f\"Час зчитування з використанням pandas: {time_pd:.6f} секунд\")\n",
    "\n",
    "df_pd = readfile(file_name, headers)"
   ]
  },
  {
   "cell_type": "code",
   "execution_count": 4,
   "id": "ad826b87",
   "metadata": {},
   "outputs": [
    {
     "name": "stdout",
     "output_type": "stream",
     "text": [
      "Час зчитування з використанням numpy: 7.642136 секунд\n"
     ]
    }
   ],
   "source": [
    "dtype_np = [\n",
    "    (\"Date\", \"U10\"), (\"Time\", \"U8\"),\n",
    "    (\"Global_active_power\", \"float64\"),\n",
    "    (\"Global_reactive_power\", \"float64\"),\n",
    "    (\"Voltage\", \"float64\"),\n",
    "    (\"Global_intensity\", \"float64\"),\n",
    "    (\"Sub_metering_1\", \"float64\"),\n",
    "    (\"Sub_metering_2\", \"float64\"),\n",
    "    (\"Sub_metering_3\", \"float64\")\n",
    "]\n",
    "\n",
    "def readfile_np(file, dtype):\n",
    "    data = np.genfromtxt(file, delimiter=';', dtype=dtype, encoding=\"UTF-8\", names=True, \n",
    "                           missing_values=[\"?\"], filling_values=np.nan)\n",
    "    return data[~np.isnan(data[\"Global_active_power\"])]\n",
    "\n",
    "list_time_np = []\n",
    "time_np = avg_time('readfile_np(file_name, dtype_np)')\n",
    "list_time_np.append(time_np)\n",
    "print(f\"Час зчитування з використанням numpy: {time_np:.6f} секунд\")\n",
    "\n",
    "data_np = readfile_np(file_name, dtype_np)"
   ]
  },
  {
   "cell_type": "code",
   "execution_count": 5,
   "id": "efaa49d6",
   "metadata": {},
   "outputs": [
    {
     "name": "stdout",
     "output_type": "stream",
     "text": [
      "Час вибірки 1 з використанням pandas: 0.004673 секунд\n",
      "Час вибірки 1 з використанням numpy: 0.013449 секунд\n"
     ]
    }
   ],
   "source": [
    "def task1_pd(df):\n",
    "    return df[df['Global_active_power'] > 5]\n",
    "\n",
    "time_filter1_pd = avg_time('task1_pd(df_pd)')\n",
    "list_time_pd.append(time_filter1_pd)\n",
    "print(f\"Час вибірки 1 з використанням pandas: {time_filter1_pd:.6f} секунд\")\n",
    "\n",
    "df_task1 = task1_pd(df_pd)\n",
    "\n",
    "def task1_np(data):\n",
    "    mask = data['Global_active_power'] > 5\n",
    "    return data[mask]\n",
    "\n",
    "time_filter1_np = avg_time('task1_np(data_np)')\n",
    "list_time_np.append(time_filter1_np)\n",
    "print(f\"Час вибірки 1 з використанням numpy: {time_filter1_np:.6f} секунд\")\n",
    "\n",
    "data_task1 = task1_np(data_np)"
   ]
  },
  {
   "cell_type": "code",
   "execution_count": 6,
   "id": "c0b2a412",
   "metadata": {},
   "outputs": [
    {
     "name": "stdout",
     "output_type": "stream",
     "text": [
      "Час вибірки 2 з використанням pandas: 0.073406 секунд\n",
      "Час вибірки 2 з використанням numpy: 0.093587 секунд\n"
     ]
    }
   ],
   "source": [
    "def task2_pd(df):\n",
    "    return df[df['Voltage'] > 235]\n",
    "\n",
    "time_filter2_pd = avg_time('task2_pd(df_pd)')\n",
    "list_time_pd.append(time_filter2_pd)\n",
    "print(f\"Час вибірки 2 з використанням pandas: {time_filter2_pd:.6f} секунд\")\n",
    "\n",
    "df_task2 = task2_pd(df_pd)\n",
    "\n",
    "def task2_np(data):\n",
    "    mask = data['Voltage'] > 235\n",
    "    return data[mask]\n",
    "\n",
    "time_filter2_np = avg_time('task2_np(data_np)')\n",
    "list_time_np.append(time_filter2_np)\n",
    "print(f\"Час вибірки 2 з використанням numpy: {time_filter2_np:.6f} секунд\")\n",
    "\n",
    "data_task2 = task2_np(data_np)"
   ]
  },
  {
   "cell_type": "code",
   "execution_count": 7,
   "id": "c06ebd8b",
   "metadata": {},
   "outputs": [
    {
     "name": "stdout",
     "output_type": "stream",
     "text": [
      "Час вибірки 3 з використанням pandas: 0.011066 секунд\n",
      "Час вибірки 3 з використанням numpy: 0.050993 секунд\n"
     ]
    }
   ],
   "source": [
    "def task3_pd(df):\n",
    "    cond_intensity = df['Global_intensity'].between(19, 20)\n",
    "    cond_appliances = (df['Sub_metering_1'] + df['Sub_metering_2']) > df['Sub_metering_3']\n",
    "    return df[cond_intensity & cond_appliances]\n",
    "\n",
    "time_filter3_pd = avg_time('task3_pd(df_pd)')\n",
    "list_time_pd.append(time_filter3_pd)\n",
    "print(f\"Час вибірки 3 з використанням pandas: {time_filter3_pd:.6f} секунд\")\n",
    "\n",
    "df_task3 = task3_pd(df_pd)\n",
    "\n",
    "def task3_np(data):\n",
    "    intensity = (data['Global_intensity'] >= 19) & (data['Global_intensity'] <= 20)\n",
    "    appliances = (data['Sub_metering_1'] + data['Sub_metering_2']) > data['Sub_metering_3']\n",
    "    mask = intensity & appliances\n",
    "    return data[mask]\n",
    "\n",
    "time_filter3_np = avg_time('task3_np(data_np)')\n",
    "list_time_np.append(time_filter3_np)\n",
    "print(f\"Час вибірки 3 з використанням numpy: {time_filter3_np:.6f} секунд\")\n",
    "\n",
    "data_task3 = task3_np(data_np)"
   ]
  },
  {
   "cell_type": "code",
   "execution_count": 8,
   "id": "cd203f79",
   "metadata": {},
   "outputs": [
    {
     "name": "stdout",
     "output_type": "stream",
     "text": [
      "Час вибірки 4 з використанням pandas: 0.255834 секунд\n",
      "Середні значення (pandas):\n",
      " Sub_metering_1    1.136138\n",
      "Sub_metering_2    1.285700\n",
      "Sub_metering_3    6.458050\n",
      "dtype: float64\n",
      "Час вибірки 4 з використанням numpy: 0.187832 секунд\n",
      "Середні значення (numpy):\n",
      " {'Sub_metering_1': 1.129116, 'Sub_metering_2': 1.296996, 'Sub_metering_3': 6.468412}\n"
     ]
    }
   ],
   "source": [
    "def task4_pd(df):\n",
    "    sample_df = df.sample(n=500000, replace=False).sort_index()\n",
    "    means = sample_df[['Sub_metering_1', 'Sub_metering_2', 'Sub_metering_3']].mean()\n",
    "    return sample_df, means\n",
    "\n",
    "time_task4_pd = avg_time('task4_pd(df_pd)')\n",
    "list_time_pd.append(time_task4_pd)\n",
    "print(f\"Час вибірки 4 з використанням pandas: {time_task4_pd:.6f} секунд\")\n",
    "\n",
    "df_sample, means_pd = task4_pd(df_pd)\n",
    "print(\"Середні значення (pandas):\\n\", means_pd)\n",
    "\n",
    "def task4_np(data):\n",
    "    num_rows = data.shape[0]\n",
    "    indices = np.random.choice(num_rows, size=500000, replace=False)\n",
    "    sample_np = data[indices]\n",
    "    mean_sm1 = np.mean(sample_np['Sub_metering_1'])\n",
    "    mean_sm2 = np.mean(sample_np['Sub_metering_2'])\n",
    "    mean_sm3 = np.mean(sample_np['Sub_metering_3'])\n",
    "    means = {'Sub_metering_1': mean_sm1, 'Sub_metering_2': mean_sm2, 'Sub_metering_3': mean_sm3}\n",
    "    return sample_np, means\n",
    "\n",
    "time_task4_np = avg_time('task4_np(data_np)')\n",
    "list_time_np.append(time_task4_np)\n",
    "print(f\"Час вибірки 4 з використанням numpy: {time_task4_np:.6f} секунд\")\n",
    "\n",
    "data_sample_np, means_np = task4_np(data_np)\n",
    "print(\"Середні значення (numpy):\\n\", means_np)"
   ]
  },
  {
   "cell_type": "code",
   "execution_count": 9,
   "id": "66a4cb1d",
   "metadata": {},
   "outputs": [
    {
     "name": "stdout",
     "output_type": "stream",
     "text": [
      "Час вибірки 5 з використанням pandas: 3.833085 секунд\n",
      "Час вибірки 5 з використанням numpy: 10.003987 секунд\n"
     ]
    }
   ],
   "source": [
    "def task5_pd(df):\n",
    "    df['Time_dt'] = pd.to_datetime(df['Time'], format='%H:%M:%S')\n",
    "    cond_time = df['Time_dt'].dt.time > datetime.strptime(\"18:00:00\", \"%H:%M:%S\").time()\n",
    "    cond_power = df['Global_active_power'] > 6\n",
    "    df_filtered = df[cond_time & cond_power].copy()\n",
    "    df_group2 = df_filtered[(df_filtered['Sub_metering_2'] > df_filtered['Sub_metering_1']) & \n",
    "                           (df_filtered['Sub_metering_2'] > df_filtered['Sub_metering_3'])]\n",
    "    n = len(df_group2)\n",
    "    first_half = df_group2.iloc[:n//2]\n",
    "    second_half = df_group2.iloc[n//2:]\n",
    "    selected_first = first_half.iloc[::3]\n",
    "    selected_second = second_half.iloc[::4]\n",
    "    final_df = pd.concat([selected_first, selected_second])\n",
    "    return final_df\n",
    "\n",
    "time_task5_pd = avg_time('task5_pd(df_pd)')\n",
    "list_time_pd.append(time_task5_pd)\n",
    "print(f\"Час вибірки 5 з використанням pandas: {time_task5_pd:.6f} секунд\")\n",
    "\n",
    "df_task5 = task5_pd(df_pd)\n",
    "\n",
    "def task5_np(data):\n",
    "    time_data = np.array([datetime.strptime(t, \"%H:%M:%S\") for t in data['Time']])\n",
    "    time_threshold = datetime.strptime(\"18:00:00\", \"%H:%M:%S\")\n",
    "    mask_time = time_data > time_threshold\n",
    "    mask_power = data['Global_active_power'] > 6\n",
    "    data_filtered = data[mask_time & mask_power]\n",
    "    mask_group2 = (data_filtered['Sub_metering_2'] > data_filtered['Sub_metering_1']) & (data_filtered['Sub_metering_2'] > data_filtered['Sub_metering_3'])\n",
    "    data_group2 = data_filtered[mask_group2]\n",
    "    n = data_group2.shape[0]\n",
    "    first_half_np, second_half_np = np.array_split(data_group2, 2)\n",
    "    selected_first_np = first_half_np[::3]\n",
    "    selected_second_np = second_half_np[::4]\n",
    "    final_data = np.concatenate((selected_first_np, selected_second_np))\n",
    "    return final_data\n",
    "\n",
    "\n",
    "time_task5_np = avg_time('task5_np(data_np)')\n",
    "list_time_np.append(time_task5_np)\n",
    "print(f\"Час вибірки 5 з використанням numpy: {time_task5_np:.6f} секунд\")\n",
    "\n",
    "data_task5 = task5_np(data_np)"
   ]
  },
  {
   "cell_type": "code",
   "execution_count": 10,
   "id": "cbbc4712",
   "metadata": {
    "scrolled": true
   },
   "outputs": [
    {
     "name": "stderr",
     "output_type": "stream",
     "text": [
      "/home/kali/anaconda3/lib/python3.11/site-packages/seaborn/_oldcore.py:1119: FutureWarning: use_inf_as_na option is deprecated and will be removed in a future version. Convert inf values to NaN before operating instead.\n",
      "  with pd.option_context('mode.use_inf_as_na', True):\n",
      "/home/kali/anaconda3/lib/python3.11/site-packages/seaborn/_oldcore.py:1119: FutureWarning: use_inf_as_na option is deprecated and will be removed in a future version. Convert inf values to NaN before operating instead.\n",
      "  with pd.option_context('mode.use_inf_as_na', True):\n",
      "/home/kali/anaconda3/lib/python3.11/site-packages/seaborn/_oldcore.py:1119: FutureWarning: use_inf_as_na option is deprecated and will be removed in a future version. Convert inf values to NaN before operating instead.\n",
      "  with pd.option_context('mode.use_inf_as_na', True):\n",
      "/home/kali/anaconda3/lib/python3.11/site-packages/seaborn/_oldcore.py:1119: FutureWarning: use_inf_as_na option is deprecated and will be removed in a future version. Convert inf values to NaN before operating instead.\n",
      "  with pd.option_context('mode.use_inf_as_na', True):\n"
     ]
    },
    {
     "data": {
      "image/png": "[encoded data removed]",
      "text/plain": [
       "<Figure size 1200x600 with 1 Axes>"
      ]
     },
     "metadata": {},
     "output_type": "display_data"
    }
   ],
   "source": [
    "operations = ['Зчитування', 'Task 1', 'Task 2', 'Task 3', 'Task 4', 'Task 5']\n",
    "plt.figure(figsize=(12,6))\n",
    "sns.lineplot(x=operations, y=list_time_pd[:len(operations)], marker='o', label='pandas')\n",
    "sns.lineplot(x=operations, y=list_time_np[:len(operations)], marker='o', label='numpy')\n",
    "plt.xlabel('Операції')\n",
    "plt.ylabel('Час (секунди)')\n",
    "plt.title('Порівняння часу виконання операцій')\n",
    "plt.legend()\n",
    "plt.show()"
   ]
  },
  {
   "cell_type": "markdown",
   "id": "ea99caa9-0854-45e7-af1a-055dacd88f35",
   "metadata": {},
   "source": [
    "Pandas: 5/5. Завдяки вбудованим методам для фільтрації, зчитування та обробки даних (особливо дат та часу), Pandas робить код читабельним і простим у використанні.\n",
    "\n",
    "NumPy: 3/5. Для чистих масивних операцій NumPy чудово підходить, але при відборі за кількома умовами та роботі з часом потрібно більше ручних кроків, що ускладнює код і може сповільнити виконання."
   ]
  }
 ],
 "metadata": {
  "kernelspec": {
   "display_name": "Python 3 (ipykernel)",
   "language": "python",
   "name": "python3"
  },
  "language_info": {
   "codemirror_mode": {
    "name": "ipython",
    "version": 3
   },
   "file_extension": ".py",
   "mimetype": "text/x-python",
   "name": "python",
   "nbconvert_exporter": "python",
   "pygments_lexer": "ipython3",
   "version": "3.11.7"
  }
 },
 "nbformat": 4,
 "nbformat_minor": 5
}
